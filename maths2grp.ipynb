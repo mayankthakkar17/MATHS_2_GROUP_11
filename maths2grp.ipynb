{
 "cells": [
  {
   "cell_type": "markdown",
   "metadata": {},
   "source": [
    "# **Car Prices in India Dataset**\n",
    "## **PHASE 1 REPORT - Data Preperation and Visualization**"
   ]
  },
  {
   "cell_type": "markdown",
   "metadata": {},
   "source": [
    "   Group Number - 11\n",
    " \n",
    " - Group Members and IDs\n",
    "    * Aarav Jain\n",
    "    * Ahnaf Tausif\n",
    "    * Kushagra Baghel\n",
    "    * Mayank Deepak Thakkar\n",
    "    * Vishwas Aggarwal"
   ]
  },
  {
   "cell_type": "markdown",
   "metadata": {},
   "source": [
    "## Table of Contents"
   ]
  },
  {
   "cell_type": "markdown",
   "metadata": {},
   "source": [
    "## Introduction <a id='itr'></a>"
   ]
  },
  {
   "cell_type": "markdown",
   "metadata": {},
   "source": [
    "### Dataset Source"
   ]
  },
  {
   "cell_type": "markdown",
   "metadata": {},
   "source": [
    "The Used Car Price in India Dataset used in this report was sourced from Kaggle(Avi Kaslival,2019). This dataset contains the information about the used car prices from 1998 to 2019."
   ]
  },
  {
   "cell_type": "markdown",
   "metadata": {},
   "source": [
    "### Dataset Information"
   ]
  },
  {
   "cell_type": "markdown",
   "metadata": {},
   "source": [
    "This dataset contains all the information about used cars in India which is then used to predict car prices. The attributes in this dataset are fuel type, kilometers driven, mileage, power, engine, transmission type, year bought,owner type, number of seats. These features seem to be sufficient in order to predict the used car prices. The dataset has 9 features and a total of 6020 observations.\n",
    "\n",
    "**Dataset Retrieval**\n",
    "\n",
    "Read and Display 10 randomly selected rows from the dataset."
   ]
  },
  {
   "cell_type": "code",
   "execution_count": 9,
   "metadata": {},
   "outputs": [],
   "source": [
    "import warnings\n",
    "warnings.filterwarnings(\"ignore\")\n",
    "\n",
    "import numpy as np\n",
    "import pandas as pd\n",
    "import io\n",
    "import requests\n",
    "\n",
    "pd.set_option('display.max_columns', None) \n",
    "\n",
    "import matplotlib.pyplot as plt\n",
    "import seaborn as sns\n",
    "%matplotlib inline \n",
    "%config InlineBackend.figure_format = 'retina'\n",
    "plt.style.use(\"seaborn\")\n"
   ]
  },
  {
   "cell_type": "code",
   "execution_count": 10,
   "metadata": {},
   "outputs": [],
   "source": [
    "df_grp11 = pd.read_csv('train-data.csv')"
   ]
  },
  {
   "cell_type": "code",
   "execution_count": 11,
   "metadata": {},
   "outputs": [
    {
     "data": {
      "text/html": [
       "<div>\n",
       "<style scoped>\n",
       "    .dataframe tbody tr th:only-of-type {\n",
       "        vertical-align: middle;\n",
       "    }\n",
       "\n",
       "    .dataframe tbody tr th {\n",
       "        vertical-align: top;\n",
       "    }\n",
       "\n",
       "    .dataframe thead th {\n",
       "        text-align: right;\n",
       "    }\n",
       "</style>\n",
       "<table border=\"1\" class=\"dataframe\">\n",
       "  <thead>\n",
       "    <tr style=\"text-align: right;\">\n",
       "      <th></th>\n",
       "      <th>Unnamed: 0</th>\n",
       "      <th>Name</th>\n",
       "      <th>Location</th>\n",
       "      <th>Year</th>\n",
       "      <th>Kilometers_Driven</th>\n",
       "      <th>Fuel_Type</th>\n",
       "      <th>Transmission</th>\n",
       "      <th>Owner_Type</th>\n",
       "      <th>Mileage</th>\n",
       "      <th>Engine</th>\n",
       "      <th>Power</th>\n",
       "      <th>Seats</th>\n",
       "      <th>New_Price</th>\n",
       "      <th>Price</th>\n",
       "    </tr>\n",
       "  </thead>\n",
       "  <tbody>\n",
       "    <tr>\n",
       "      <th>1940</th>\n",
       "      <td>1940</td>\n",
       "      <td>Skoda Fabia 1.2L Diesel Classic</td>\n",
       "      <td>Hyderabad</td>\n",
       "      <td>2010</td>\n",
       "      <td>66285</td>\n",
       "      <td>Diesel</td>\n",
       "      <td>Manual</td>\n",
       "      <td>First</td>\n",
       "      <td>19.5 kmpl</td>\n",
       "      <td>1199 CC</td>\n",
       "      <td>75 bhp</td>\n",
       "      <td>5.0</td>\n",
       "      <td>NaN</td>\n",
       "      <td>3.00</td>\n",
       "    </tr>\n",
       "    <tr>\n",
       "      <th>1416</th>\n",
       "      <td>1416</td>\n",
       "      <td>Fiat Linea Emotion</td>\n",
       "      <td>Kolkata</td>\n",
       "      <td>2010</td>\n",
       "      <td>39852</td>\n",
       "      <td>Petrol</td>\n",
       "      <td>Manual</td>\n",
       "      <td>First</td>\n",
       "      <td>16.0 kmpl</td>\n",
       "      <td>1368 CC</td>\n",
       "      <td>90 bhp</td>\n",
       "      <td>5.0</td>\n",
       "      <td>NaN</td>\n",
       "      <td>1.59</td>\n",
       "    </tr>\n",
       "    <tr>\n",
       "      <th>706</th>\n",
       "      <td>706</td>\n",
       "      <td>Mercedes-Benz E-Class 2015-2017 E250 CDI Avant...</td>\n",
       "      <td>Chennai</td>\n",
       "      <td>2017</td>\n",
       "      <td>34000</td>\n",
       "      <td>Diesel</td>\n",
       "      <td>Automatic</td>\n",
       "      <td>First</td>\n",
       "      <td>13.0 kmpl</td>\n",
       "      <td>2143 CC</td>\n",
       "      <td>204 bhp</td>\n",
       "      <td>5.0</td>\n",
       "      <td>NaN</td>\n",
       "      <td>36.00</td>\n",
       "    </tr>\n",
       "    <tr>\n",
       "      <th>1326</th>\n",
       "      <td>1326</td>\n",
       "      <td>Ford Ecosport 1.5 DV5 MT Titanium</td>\n",
       "      <td>Jaipur</td>\n",
       "      <td>2014</td>\n",
       "      <td>60000</td>\n",
       "      <td>Diesel</td>\n",
       "      <td>Manual</td>\n",
       "      <td>First</td>\n",
       "      <td>22.7 kmpl</td>\n",
       "      <td>1498 CC</td>\n",
       "      <td>89.84 bhp</td>\n",
       "      <td>5.0</td>\n",
       "      <td>NaN</td>\n",
       "      <td>5.75</td>\n",
       "    </tr>\n",
       "    <tr>\n",
       "      <th>1150</th>\n",
       "      <td>1150</td>\n",
       "      <td>Skoda Superb Elegance 1.8 TSI AT</td>\n",
       "      <td>Mumbai</td>\n",
       "      <td>2015</td>\n",
       "      <td>56073</td>\n",
       "      <td>Petrol</td>\n",
       "      <td>Automatic</td>\n",
       "      <td>First</td>\n",
       "      <td>13.7 kmpl</td>\n",
       "      <td>1798 CC</td>\n",
       "      <td>157.75 bhp</td>\n",
       "      <td>5.0</td>\n",
       "      <td>NaN</td>\n",
       "      <td>13.25</td>\n",
       "    </tr>\n",
       "    <tr>\n",
       "      <th>2300</th>\n",
       "      <td>2300</td>\n",
       "      <td>Tata Safari DICOR 2.2 LX 4x2</td>\n",
       "      <td>Bangalore</td>\n",
       "      <td>2012</td>\n",
       "      <td>90000</td>\n",
       "      <td>Diesel</td>\n",
       "      <td>Manual</td>\n",
       "      <td>Second</td>\n",
       "      <td>13.93 kmpl</td>\n",
       "      <td>2179 CC</td>\n",
       "      <td>138.03 bhp</td>\n",
       "      <td>7.0</td>\n",
       "      <td>NaN</td>\n",
       "      <td>4.60</td>\n",
       "    </tr>\n",
       "    <tr>\n",
       "      <th>1094</th>\n",
       "      <td>1094</td>\n",
       "      <td>Maruti Vitara Brezza VDi</td>\n",
       "      <td>Kolkata</td>\n",
       "      <td>2017</td>\n",
       "      <td>35000</td>\n",
       "      <td>Diesel</td>\n",
       "      <td>Manual</td>\n",
       "      <td>First</td>\n",
       "      <td>24.3 kmpl</td>\n",
       "      <td>1248 CC</td>\n",
       "      <td>88.5 bhp</td>\n",
       "      <td>5.0</td>\n",
       "      <td>9.46 Lakh</td>\n",
       "      <td>6.50</td>\n",
       "    </tr>\n",
       "    <tr>\n",
       "      <th>762</th>\n",
       "      <td>762</td>\n",
       "      <td>Ford Figo Titanium Diesel</td>\n",
       "      <td>Kolkata</td>\n",
       "      <td>2015</td>\n",
       "      <td>72035</td>\n",
       "      <td>Diesel</td>\n",
       "      <td>Manual</td>\n",
       "      <td>First</td>\n",
       "      <td>25.5 kmpl</td>\n",
       "      <td>1498 CC</td>\n",
       "      <td>99 bhp</td>\n",
       "      <td>5.0</td>\n",
       "      <td>7.65 Lakh</td>\n",
       "      <td>2.50</td>\n",
       "    </tr>\n",
       "    <tr>\n",
       "      <th>3131</th>\n",
       "      <td>3131</td>\n",
       "      <td>Mahindra Xylo D2 BS III</td>\n",
       "      <td>Ahmedabad</td>\n",
       "      <td>2010</td>\n",
       "      <td>91596</td>\n",
       "      <td>Diesel</td>\n",
       "      <td>Manual</td>\n",
       "      <td>First</td>\n",
       "      <td>14.95 kmpl</td>\n",
       "      <td>2489 CC</td>\n",
       "      <td>93.7 bhp</td>\n",
       "      <td>7.0</td>\n",
       "      <td>NaN</td>\n",
       "      <td>1.85</td>\n",
       "    </tr>\n",
       "    <tr>\n",
       "      <th>2851</th>\n",
       "      <td>2851</td>\n",
       "      <td>Renault KWID 1.0 RXT Optional</td>\n",
       "      <td>Kochi</td>\n",
       "      <td>2018</td>\n",
       "      <td>18335</td>\n",
       "      <td>Petrol</td>\n",
       "      <td>Manual</td>\n",
       "      <td>First</td>\n",
       "      <td>21.7 kmpl</td>\n",
       "      <td>999 CC</td>\n",
       "      <td>67 bhp</td>\n",
       "      <td>5.0</td>\n",
       "      <td>4.61 Lakh</td>\n",
       "      <td>4.50</td>\n",
       "    </tr>\n",
       "  </tbody>\n",
       "</table>\n",
       "</div>"
      ],
      "text/plain": [
       "      Unnamed: 0                                               Name  \\\n",
       "1940        1940                    Skoda Fabia 1.2L Diesel Classic   \n",
       "1416        1416                                 Fiat Linea Emotion   \n",
       "706          706  Mercedes-Benz E-Class 2015-2017 E250 CDI Avant...   \n",
       "1326        1326                  Ford Ecosport 1.5 DV5 MT Titanium   \n",
       "1150        1150                   Skoda Superb Elegance 1.8 TSI AT   \n",
       "2300        2300                       Tata Safari DICOR 2.2 LX 4x2   \n",
       "1094        1094                           Maruti Vitara Brezza VDi   \n",
       "762          762                          Ford Figo Titanium Diesel   \n",
       "3131        3131                            Mahindra Xylo D2 BS III   \n",
       "2851        2851                      Renault KWID 1.0 RXT Optional   \n",
       "\n",
       "       Location  Year  Kilometers_Driven Fuel_Type Transmission Owner_Type  \\\n",
       "1940  Hyderabad  2010              66285    Diesel       Manual      First   \n",
       "1416    Kolkata  2010              39852    Petrol       Manual      First   \n",
       "706     Chennai  2017              34000    Diesel    Automatic      First   \n",
       "1326     Jaipur  2014              60000    Diesel       Manual      First   \n",
       "1150     Mumbai  2015              56073    Petrol    Automatic      First   \n",
       "2300  Bangalore  2012              90000    Diesel       Manual     Second   \n",
       "1094    Kolkata  2017              35000    Diesel       Manual      First   \n",
       "762     Kolkata  2015              72035    Diesel       Manual      First   \n",
       "3131  Ahmedabad  2010              91596    Diesel       Manual      First   \n",
       "2851      Kochi  2018              18335    Petrol       Manual      First   \n",
       "\n",
       "         Mileage   Engine       Power  Seats  New_Price  Price  \n",
       "1940   19.5 kmpl  1199 CC      75 bhp    5.0        NaN   3.00  \n",
       "1416   16.0 kmpl  1368 CC      90 bhp    5.0        NaN   1.59  \n",
       "706    13.0 kmpl  2143 CC     204 bhp    5.0        NaN  36.00  \n",
       "1326   22.7 kmpl  1498 CC   89.84 bhp    5.0        NaN   5.75  \n",
       "1150   13.7 kmpl  1798 CC  157.75 bhp    5.0        NaN  13.25  \n",
       "2300  13.93 kmpl  2179 CC  138.03 bhp    7.0        NaN   4.60  \n",
       "1094   24.3 kmpl  1248 CC    88.5 bhp    5.0  9.46 Lakh   6.50  \n",
       "762    25.5 kmpl  1498 CC      99 bhp    5.0  7.65 Lakh   2.50  \n",
       "3131  14.95 kmpl  2489 CC    93.7 bhp    7.0        NaN   1.85  \n",
       "2851   21.7 kmpl   999 CC      67 bhp    5.0  4.61 Lakh   4.50  "
      ]
     },
     "execution_count": 11,
     "metadata": {},
     "output_type": "execute_result"
    }
   ],
   "source": [
    "df_grp11.sample(10, random_state=999)"
   ]
  },
  {
   "cell_type": "markdown",
   "metadata": {},
   "source": [
    "### Dataset Features "
   ]
  },
  {
   "cell_type": "markdown",
   "metadata": {},
   "source": [
    "Here are the various features of the dataset in a tabular form. They are also described in the Kagle dataset."
   ]
  },
  {
   "cell_type": "code",
   "execution_count": 12,
   "metadata": {},
   "outputs": [
    {
     "name": "stdout",
     "output_type": "stream",
     "text": [
      "╒═══════════════════╤═════════════════════╤═════════════════════════╤═════════════════════════════════════════════════════════════════════╕\n",
      "│ Name              │ Data Type           │ Units                   │ Description                                                         │\n",
      "╞═══════════════════╪═════════════════════╪═════════════════════════╪═════════════════════════════════════════════════════════════════════╡\n",
      "│ Name              │ Nominal Categorical │ NA                      │ Name of the Car                                                     │\n",
      "├───────────────────┼─────────────────────┼─────────────────────────┼─────────────────────────────────────────────────────────────────────┤\n",
      "│ Location          │ Nominal Categorical │ NA                      │ The city where the car was bought                                   │\n",
      "├───────────────────┼─────────────────────┼─────────────────────────┼─────────────────────────────────────────────────────────────────────┤\n",
      "│ Year              │ Numeric             │ NA                      │ Year in which car was bought                                        │\n",
      "├───────────────────┼─────────────────────┼─────────────────────────┼─────────────────────────────────────────────────────────────────────┤\n",
      "│ Kilometers_Driven │ Numeric             │ Kilometers(km)          │ Distance the car is driven in kms                                   │\n",
      "├───────────────────┼─────────────────────┼─────────────────────────┼─────────────────────────────────────────────────────────────────────┤\n",
      "│ Fuel_Type         │ Nominal Categorical │ NA                      │ Type of fuel used in the car - CNG / Petrol / Diesel                │\n",
      "├───────────────────┼─────────────────────┼─────────────────────────┼─────────────────────────────────────────────────────────────────────┤\n",
      "│ Transmission      │ Binary              │ NA                      │ Type of transmission the car has - Manual / Automatic               │\n",
      "├───────────────────┼─────────────────────┼─────────────────────────┼─────────────────────────────────────────────────────────────────────┤\n",
      "│ Owner_Type        │ Nominal_Categorical │ NA                      │ How many owners the car has had earlier and the number of owmer now │\n",
      "├───────────────────┼─────────────────────┼─────────────────────────┼─────────────────────────────────────────────────────────────────────┤\n",
      "│ Mileage           │ Numeric             │ Kilometer/litre (kmpl)  │ The mileage of the car                                              │\n",
      "├───────────────────┼─────────────────────┼─────────────────────────┼─────────────────────────────────────────────────────────────────────┤\n",
      "│ Engine            │ Numeric             │ Cubic Capacity (CC)     │ CC of the engine                                                    │\n",
      "├───────────────────┼─────────────────────┼─────────────────────────┼─────────────────────────────────────────────────────────────────────┤\n",
      "│ Power             │ Numeric             │ Break Horse Power (BHP) │ 0 -  is not newly built and 1 - is newly built                      │\n",
      "├───────────────────┼─────────────────────┼─────────────────────────┼─────────────────────────────────────────────────────────────────────┤\n",
      "│ Seats             │ Numeric             │ NA                      │ Number of seats the car has                                         │\n",
      "├───────────────────┼─────────────────────┼─────────────────────────┼─────────────────────────────────────────────────────────────────────┤\n",
      "│ New_Price         │ Numeric             │ NA                      │ New price of the car in Indian Rupees                               │\n",
      "├───────────────────┼─────────────────────┼─────────────────────────┼─────────────────────────────────────────────────────────────────────┤\n",
      "│ Price             │ Numeric             │ NA                      │ Price of the car in Indian Rupees                                   │\n",
      "╘═══════════════════╧═════════════════════╧═════════════════════════╧═════════════════════════════════════════════════════════════════════╛\n"
     ]
    }
   ],
   "source": [
    "from tabulate import tabulate\n",
    "\n",
    "table = [['Name','Data Type','Units','Description'],\n",
    "         ['Name', 'Nominal Categorical', 'NA', 'Name of the Car'],\n",
    "         ['Location', 'Nominal Categorical', 'NA', 'The city where the car was bought'],\n",
    "         ['Year', 'Numeric', 'NA', 'Year in which car was bought'],\n",
    "         ['Kilometers_Driven', 'Numeric', 'Kilometers(km)', 'Distance the car is driven in kms '],\n",
    "         ['Fuel_Type', 'Nominal Categorical', 'NA', 'Type of fuel used in the car - CNG / Petrol / Diesel'],\n",
    "         ['Transmission', 'Binary', 'NA', 'Type of transmission the car has - Manual / Automatic'],\n",
    "         ['Owner_Type', 'Nominal_Categorical', 'NA', 'How many owners the car has had earlier and the number of owmer now'],\n",
    "         ['Mileage', 'Numeric', 'Kilometer/litre (kmpl)', 'The mileage of the car'],\n",
    "         ['Engine', 'Numeric', 'Cubic Capacity (CC)', 'CC of the engine'],\n",
    "         ['Power', 'Numeric', 'Break Horse Power (BHP)', '0 -  is not newly built and 1 - is newly built'],\n",
    "         ['Seats', 'Numeric', 'NA', 'Number of seats the car has'],\n",
    "         ['New_Price', 'Numeric', 'NA', 'New price of the car in Indian Rupees'],\n",
    "         ['Price', 'Numeric', 'NA', 'Price of the car in Indian Rupees']]\n",
    "print(tabulate(table, headers='firstrow', tablefmt='fancy_grid'))"
   ]
  },
  {
   "cell_type": "markdown",
   "metadata": {},
   "source": [
    "### Target Feature"
   ]
  },
  {
   "cell_type": "markdown",
   "metadata": {},
   "source": [
    "For this report, the target feature will be the price of cars in the metropolitan cities of India. It will be predicted by using the descriptive variables and statistics for data exploration and visualisation."
   ]
  },
  {
   "cell_type": "markdown",
   "metadata": {},
   "source": [
    "## Goals and Objectives"
   ]
  },
  {
   "cell_type": "markdown",
   "metadata": {},
   "source": [
    "India is one of the 2nd most populous countries with a population of 1.3 billion. It has a prodigious automotive industry and based on the latest statistic(https://www.statista.com/statistics/664729/total-number-of-vehicles-india/) India has around 296 million registered vehicles. Thus a model that can predict car prices of used as well as new cars has a lot of real world use in this industry. \n",
    "\n",
    "We want our model to predict the car prices on the basis of attributes like kilometer driven, transmission type, owner type, mileage, engine, power and the capacity of the vehicle. We also aim to perform some data analysis to accurately predict the car prices by using modules like matplotlib and seaborn in order to explore and visualize data."
   ]
  },
  {
   "cell_type": "markdown",
   "metadata": {},
   "source": [
    "## Data Cleaning and Preprocessing"
   ]
  },
  {
   "cell_type": "markdown",
   "metadata": {},
   "source": [
    "We will be performing data cleaning and preprocessing in which we will \n",
    "\n",
    "*  Drop irrelevant features\n",
    "*  Check for missing values and remove the respective rows\n",
    "*  Random sampling of the dataset for 500 rows"
   ]
  },
  {
   "cell_type": "markdown",
   "metadata": {},
   "source": [
    "We will start by displaying all the columns of our dataset and checking it's shape"
   ]
  },
  {
   "cell_type": "code",
   "execution_count": 13,
   "metadata": {},
   "outputs": [
    {
     "data": {
      "text/plain": [
       "Index(['Unnamed: 0', 'Name', 'Location', 'Year', 'Kilometers_Driven',\n",
       "       'Fuel_Type', 'Transmission', 'Owner_Type', 'Mileage', 'Engine', 'Power',\n",
       "       'Seats', 'New_Price', 'Price'],\n",
       "      dtype='object')"
      ]
     },
     "execution_count": 13,
     "metadata": {},
     "output_type": "execute_result"
    }
   ],
   "source": [
    "df_grp11.columns"
   ]
  },
  {
   "cell_type": "code",
   "execution_count": 14,
   "metadata": {},
   "outputs": [
    {
     "data": {
      "text/plain": [
       "(6019, 14)"
      ]
     },
     "execution_count": 14,
     "metadata": {},
     "output_type": "execute_result"
    }
   ],
   "source": [
    "df_grp11.shape"
   ]
  },
  {
   "cell_type": "markdown",
   "metadata": {},
   "source": [
    "Here we can see that the first column 'Unnamed: 0' has no use in predicting the car price. Similarly 'Name', also has no such use.'New_Price' will also be removed as it has multiple missing values."
   ]
  },
  {
   "cell_type": "code",
   "execution_count": 15,
   "metadata": {},
   "outputs": [],
   "source": [
    "df_grp11 = df_grp11.drop(columns=[\"Unnamed: 0\",\"New_Price\", \"Name\"]) "
   ]
  },
  {
   "cell_type": "markdown",
   "metadata": {},
   "source": [
    "The dataset has a consistent naming format and has proper spacing. Thus no changes need to be made in this regard."
   ]
  },
  {
   "cell_type": "markdown",
   "metadata": {},
   "source": [
    "Now we will crosscheck whether the dataset has correct datatypes associated with it's attributes."
   ]
  },
  {
   "cell_type": "code",
   "execution_count": 16,
   "metadata": {},
   "outputs": [
    {
     "name": "stdout",
     "output_type": "stream",
     "text": [
      "The datatypes are:\n",
      "Location              object\n",
      "Year                   int64\n",
      "Kilometers_Driven      int64\n",
      "Fuel_Type             object\n",
      "Transmission          object\n",
      "Owner_Type            object\n",
      "Mileage               object\n",
      "Engine                object\n",
      "Power                 object\n",
      "Seats                float64\n",
      "Price                float64\n",
      "dtype: object\n"
     ]
    }
   ],
   "source": [
    "print('The datatypes are:')\n",
    "print(df_grp11.dtypes)"
   ]
  },
  {
   "cell_type": "markdown",
   "metadata": {},
   "source": [
    "As we can see, the datatypes are correct"
   ]
  },
  {
   "cell_type": "markdown",
   "metadata": {},
   "source": [
    "Now  we will display the unique values for all categorical data types as well as numerical data types."
   ]
  },
  {
   "cell_type": "code",
   "execution_count": 17,
   "metadata": {},
   "outputs": [
    {
     "name": "stdout",
     "output_type": "stream",
     "text": [
      "Summary of categorical featues\n"
     ]
    },
    {
     "data": {
      "text/html": [
       "<div>\n",
       "<style scoped>\n",
       "    .dataframe tbody tr th:only-of-type {\n",
       "        vertical-align: middle;\n",
       "    }\n",
       "\n",
       "    .dataframe tbody tr th {\n",
       "        vertical-align: top;\n",
       "    }\n",
       "\n",
       "    .dataframe thead th {\n",
       "        text-align: right;\n",
       "    }\n",
       "</style>\n",
       "<table border=\"1\" class=\"dataframe\">\n",
       "  <thead>\n",
       "    <tr style=\"text-align: right;\">\n",
       "      <th></th>\n",
       "      <th>count</th>\n",
       "      <th>unique</th>\n",
       "      <th>top</th>\n",
       "      <th>freq</th>\n",
       "    </tr>\n",
       "  </thead>\n",
       "  <tbody>\n",
       "    <tr>\n",
       "      <th>Location</th>\n",
       "      <td>6019</td>\n",
       "      <td>11</td>\n",
       "      <td>Mumbai</td>\n",
       "      <td>790</td>\n",
       "    </tr>\n",
       "    <tr>\n",
       "      <th>Fuel_Type</th>\n",
       "      <td>6019</td>\n",
       "      <td>5</td>\n",
       "      <td>Diesel</td>\n",
       "      <td>3205</td>\n",
       "    </tr>\n",
       "    <tr>\n",
       "      <th>Transmission</th>\n",
       "      <td>6019</td>\n",
       "      <td>2</td>\n",
       "      <td>Manual</td>\n",
       "      <td>4299</td>\n",
       "    </tr>\n",
       "    <tr>\n",
       "      <th>Owner_Type</th>\n",
       "      <td>6019</td>\n",
       "      <td>4</td>\n",
       "      <td>First</td>\n",
       "      <td>4929</td>\n",
       "    </tr>\n",
       "    <tr>\n",
       "      <th>Mileage</th>\n",
       "      <td>6017</td>\n",
       "      <td>443</td>\n",
       "      <td>17.0 kmpl</td>\n",
       "      <td>172</td>\n",
       "    </tr>\n",
       "    <tr>\n",
       "      <th>Engine</th>\n",
       "      <td>5983</td>\n",
       "      <td>146</td>\n",
       "      <td>1197 CC</td>\n",
       "      <td>606</td>\n",
       "    </tr>\n",
       "    <tr>\n",
       "      <th>Power</th>\n",
       "      <td>5983</td>\n",
       "      <td>372</td>\n",
       "      <td>74 bhp</td>\n",
       "      <td>235</td>\n",
       "    </tr>\n",
       "  </tbody>\n",
       "</table>\n",
       "</div>"
      ],
      "text/plain": [
       "             count unique        top  freq\n",
       "Location      6019     11     Mumbai   790\n",
       "Fuel_Type     6019      5     Diesel  3205\n",
       "Transmission  6019      2     Manual  4299\n",
       "Owner_Type    6019      4      First  4929\n",
       "Mileage       6017    443  17.0 kmpl   172\n",
       "Engine        5983    146    1197 CC   606\n",
       "Power         5983    372     74 bhp   235"
      ]
     },
     "execution_count": 17,
     "metadata": {},
     "output_type": "execute_result"
    }
   ],
   "source": [
    "print(\"Summary of categorical featues\")\n",
    "df_grp11.describe(include='object').T"
   ]
  },
  {
   "cell_type": "code",
   "execution_count": 18,
   "metadata": {},
   "outputs": [
    {
     "name": "stdout",
     "output_type": "stream",
     "text": [
      "Summary of numerical features\n"
     ]
    },
    {
     "data": {
      "text/html": [
       "<div>\n",
       "<style scoped>\n",
       "    .dataframe tbody tr th:only-of-type {\n",
       "        vertical-align: middle;\n",
       "    }\n",
       "\n",
       "    .dataframe tbody tr th {\n",
       "        vertical-align: top;\n",
       "    }\n",
       "\n",
       "    .dataframe thead th {\n",
       "        text-align: right;\n",
       "    }\n",
       "</style>\n",
       "<table border=\"1\" class=\"dataframe\">\n",
       "  <thead>\n",
       "    <tr style=\"text-align: right;\">\n",
       "      <th></th>\n",
       "      <th>count</th>\n",
       "      <th>mean</th>\n",
       "      <th>std</th>\n",
       "      <th>min</th>\n",
       "      <th>25%</th>\n",
       "      <th>50%</th>\n",
       "      <th>75%</th>\n",
       "      <th>max</th>\n",
       "    </tr>\n",
       "  </thead>\n",
       "  <tbody>\n",
       "    <tr>\n",
       "      <th>Year</th>\n",
       "      <td>6019.0</td>\n",
       "      <td>2013.358199</td>\n",
       "      <td>3.269742</td>\n",
       "      <td>1998.00</td>\n",
       "      <td>2011.0</td>\n",
       "      <td>2014.00</td>\n",
       "      <td>2016.00</td>\n",
       "      <td>2019.0</td>\n",
       "    </tr>\n",
       "    <tr>\n",
       "      <th>Kilometers_Driven</th>\n",
       "      <td>6019.0</td>\n",
       "      <td>58738.380296</td>\n",
       "      <td>91268.843206</td>\n",
       "      <td>171.00</td>\n",
       "      <td>34000.0</td>\n",
       "      <td>53000.00</td>\n",
       "      <td>73000.00</td>\n",
       "      <td>6500000.0</td>\n",
       "    </tr>\n",
       "    <tr>\n",
       "      <th>Seats</th>\n",
       "      <td>5977.0</td>\n",
       "      <td>5.278735</td>\n",
       "      <td>0.808840</td>\n",
       "      <td>0.00</td>\n",
       "      <td>5.0</td>\n",
       "      <td>5.00</td>\n",
       "      <td>5.00</td>\n",
       "      <td>10.0</td>\n",
       "    </tr>\n",
       "    <tr>\n",
       "      <th>Price</th>\n",
       "      <td>6019.0</td>\n",
       "      <td>9.479468</td>\n",
       "      <td>11.187917</td>\n",
       "      <td>0.44</td>\n",
       "      <td>3.5</td>\n",
       "      <td>5.64</td>\n",
       "      <td>9.95</td>\n",
       "      <td>160.0</td>\n",
       "    </tr>\n",
       "  </tbody>\n",
       "</table>\n",
       "</div>"
      ],
      "text/plain": [
       "                    count          mean           std      min      25%  \\\n",
       "Year               6019.0   2013.358199      3.269742  1998.00   2011.0   \n",
       "Kilometers_Driven  6019.0  58738.380296  91268.843206   171.00  34000.0   \n",
       "Seats              5977.0      5.278735      0.808840     0.00      5.0   \n",
       "Price              6019.0      9.479468     11.187917     0.44      3.5   \n",
       "\n",
       "                        50%       75%        max  \n",
       "Year                2014.00   2016.00     2019.0  \n",
       "Kilometers_Driven  53000.00  73000.00  6500000.0  \n",
       "Seats                  5.00      5.00       10.0  \n",
       "Price                  5.64      9.95      160.0  "
      ]
     },
     "execution_count": 18,
     "metadata": {},
     "output_type": "execute_result"
    }
   ],
   "source": [
    "print(\"Summary of numerical features\")\n",
    "df_grp11.describe(include=['int64','float64']).T"
   ]
  },
  {
   "cell_type": "markdown",
   "metadata": {},
   "source": [
    "Now we will check for any missing values by checking the number of missing values in every column "
   ]
  },
  {
   "cell_type": "code",
   "execution_count": 19,
   "metadata": {},
   "outputs": [
    {
     "name": "stdout",
     "output_type": "stream",
     "text": [
      "The missing values are:\n",
      "Location              0\n",
      "Year                  0\n",
      "Kilometers_Driven     0\n",
      "Fuel_Type             0\n",
      "Transmission          0\n",
      "Owner_Type            0\n",
      "Mileage               2\n",
      "Engine               36\n",
      "Power                36\n",
      "Seats                42\n",
      "Price                 0\n",
      "dtype: int64\n"
     ]
    }
   ],
   "source": [
    "print(\"The missing values are:\")\n",
    "print(df_grp11.isnull().sum())"
   ]
  },
  {
   "cell_type": "markdown",
   "metadata": {},
   "source": [
    "As we can see above that there are missing values in the columns 'Mileage', 'Engine', 'Power' and 'Seats'. We will drop the observations with the missing values"
   ]
  },
  {
   "cell_type": "code",
   "execution_count": 20,
   "metadata": {},
   "outputs": [],
   "source": [
    "df_grp11 = df_grp11.dropna()"
   ]
  },
  {
   "cell_type": "markdown",
   "metadata": {},
   "source": [
    "Now we will check whether the rows with the missing values were dropped"
   ]
  },
  {
   "cell_type": "code",
   "execution_count": 21,
   "metadata": {},
   "outputs": [
    {
     "name": "stdout",
     "output_type": "stream",
     "text": [
      "Location             0\n",
      "Year                 0\n",
      "Kilometers_Driven    0\n",
      "Fuel_Type            0\n",
      "Transmission         0\n",
      "Owner_Type           0\n",
      "Mileage              0\n",
      "Engine               0\n",
      "Power                0\n",
      "Seats                0\n",
      "Price                0\n",
      "dtype: int64\n"
     ]
    }
   ],
   "source": [
    "print(df_grp11.isnull().sum())"
   ]
  },
  {
   "cell_type": "markdown",
   "metadata": {},
   "source": [
    "Now we will check the shape of the dataset after cleaning and postprocessing"
   ]
  },
  {
   "cell_type": "code",
   "execution_count": 22,
   "metadata": {},
   "outputs": [
    {
     "data": {
      "text/plain": [
       "(5975, 11)"
      ]
     },
     "execution_count": 22,
     "metadata": {},
     "output_type": "execute_result"
    }
   ],
   "source": [
    "df_grp11.shape"
   ]
  },
  {
   "cell_type": "markdown",
   "metadata": {},
   "source": [
    "### Random Sampling"
   ]
  },
  {
   "cell_type": "markdown",
   "metadata": {},
   "source": [
    "Now we will do a random sampling of 500 rows out of 5975 rows. We will display 5 random rows out of the random sample of 500"
   ]
  },
  {
   "cell_type": "code",
   "execution_count": 23,
   "metadata": {},
   "outputs": [
    {
     "data": {
      "text/html": [
       "<div>\n",
       "<style scoped>\n",
       "    .dataframe tbody tr th:only-of-type {\n",
       "        vertical-align: middle;\n",
       "    }\n",
       "\n",
       "    .dataframe tbody tr th {\n",
       "        vertical-align: top;\n",
       "    }\n",
       "\n",
       "    .dataframe thead th {\n",
       "        text-align: right;\n",
       "    }\n",
       "</style>\n",
       "<table border=\"1\" class=\"dataframe\">\n",
       "  <thead>\n",
       "    <tr style=\"text-align: right;\">\n",
       "      <th></th>\n",
       "      <th>Location</th>\n",
       "      <th>Year</th>\n",
       "      <th>Kilometers_Driven</th>\n",
       "      <th>Fuel_Type</th>\n",
       "      <th>Transmission</th>\n",
       "      <th>Owner_Type</th>\n",
       "      <th>Mileage</th>\n",
       "      <th>Engine</th>\n",
       "      <th>Power</th>\n",
       "      <th>Seats</th>\n",
       "      <th>Price</th>\n",
       "    </tr>\n",
       "  </thead>\n",
       "  <tbody>\n",
       "    <tr>\n",
       "      <th>4727</th>\n",
       "      <td>Kolkata</td>\n",
       "      <td>2013</td>\n",
       "      <td>55886</td>\n",
       "      <td>Diesel</td>\n",
       "      <td>Manual</td>\n",
       "      <td>First</td>\n",
       "      <td>16.0 kmpl</td>\n",
       "      <td>2179 CC</td>\n",
       "      <td>140 bhp</td>\n",
       "      <td>7.0</td>\n",
       "      <td>7.25</td>\n",
       "    </tr>\n",
       "    <tr>\n",
       "      <th>2713</th>\n",
       "      <td>Ahmedabad</td>\n",
       "      <td>2008</td>\n",
       "      <td>45000</td>\n",
       "      <td>Diesel</td>\n",
       "      <td>Automatic</td>\n",
       "      <td>Second</td>\n",
       "      <td>16.77 kmpl</td>\n",
       "      <td>2967 CC</td>\n",
       "      <td>241.38 bhp</td>\n",
       "      <td>5.0</td>\n",
       "      <td>11.50</td>\n",
       "    </tr>\n",
       "    <tr>\n",
       "      <th>385</th>\n",
       "      <td>Mumbai</td>\n",
       "      <td>2016</td>\n",
       "      <td>28000</td>\n",
       "      <td>Petrol</td>\n",
       "      <td>Manual</td>\n",
       "      <td>First</td>\n",
       "      <td>17.8 kmpl</td>\n",
       "      <td>1497 CC</td>\n",
       "      <td>117.3 bhp</td>\n",
       "      <td>5.0</td>\n",
       "      <td>8.75</td>\n",
       "    </tr>\n",
       "    <tr>\n",
       "      <th>1758</th>\n",
       "      <td>Chennai</td>\n",
       "      <td>2011</td>\n",
       "      <td>37442</td>\n",
       "      <td>Petrol</td>\n",
       "      <td>Manual</td>\n",
       "      <td>First</td>\n",
       "      <td>18.5 kmpl</td>\n",
       "      <td>1197 CC</td>\n",
       "      <td>80 bhp</td>\n",
       "      <td>5.0</td>\n",
       "      <td>3.40</td>\n",
       "    </tr>\n",
       "    <tr>\n",
       "      <th>1569</th>\n",
       "      <td>Pune</td>\n",
       "      <td>2016</td>\n",
       "      <td>27300</td>\n",
       "      <td>Petrol</td>\n",
       "      <td>Manual</td>\n",
       "      <td>First</td>\n",
       "      <td>17.8 kmpl</td>\n",
       "      <td>1497 CC</td>\n",
       "      <td>117.3 bhp</td>\n",
       "      <td>5.0</td>\n",
       "      <td>7.00</td>\n",
       "    </tr>\n",
       "  </tbody>\n",
       "</table>\n",
       "</div>"
      ],
      "text/plain": [
       "       Location  Year  Kilometers_Driven Fuel_Type Transmission Owner_Type  \\\n",
       "4727    Kolkata  2013              55886    Diesel       Manual      First   \n",
       "2713  Ahmedabad  2008              45000    Diesel    Automatic     Second   \n",
       "385      Mumbai  2016              28000    Petrol       Manual      First   \n",
       "1758    Chennai  2011              37442    Petrol       Manual      First   \n",
       "1569       Pune  2016              27300    Petrol       Manual      First   \n",
       "\n",
       "         Mileage   Engine       Power  Seats  Price  \n",
       "4727   16.0 kmpl  2179 CC     140 bhp    7.0   7.25  \n",
       "2713  16.77 kmpl  2967 CC  241.38 bhp    5.0  11.50  \n",
       "385    17.8 kmpl  1497 CC   117.3 bhp    5.0   8.75  \n",
       "1758   18.5 kmpl  1197 CC      80 bhp    5.0   3.40  \n",
       "1569   17.8 kmpl  1497 CC   117.3 bhp    5.0   7.00  "
      ]
     },
     "execution_count": 23,
     "metadata": {},
     "output_type": "execute_result"
    }
   ],
   "source": [
    "melb_df = df_grp11.sample(n=500, random_state=999)\n",
    "melb_df.sample(5, random_state=999)"
   ]
  },
  {
   "cell_type": "markdown",
   "metadata": {},
   "source": [
    "## Data Exploration and Visualisation\n",
    "\n",
    "We can now start working on visualizing the data as we finished cleaning up the dataset"
   ]
  },
  {
   "cell_type": "markdown",
   "metadata": {},
   "source": []
  }
 ],
 "metadata": {
  "kernelspec": {
   "display_name": "Python 3.9.12 ('base')",
   "language": "python",
   "name": "python3"
  },
  "language_info": {
   "codemirror_mode": {
    "name": "ipython",
    "version": 3
   },
   "file_extension": ".py",
   "mimetype": "text/x-python",
   "name": "python",
   "nbconvert_exporter": "python",
   "pygments_lexer": "ipython3",
   "version": "3.9.12"
  },
  "orig_nbformat": 4,
  "vscode": {
   "interpreter": {
    "hash": "52d90d3cc821dd0beedd6e719dbdecc722c226b9d90ed1b663c34e1877f1142e"
   }
  }
 },
 "nbformat": 4,
 "nbformat_minor": 2
}
