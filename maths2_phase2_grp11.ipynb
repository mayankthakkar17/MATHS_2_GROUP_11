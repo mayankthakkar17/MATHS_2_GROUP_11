{
 "cells": [
  {
   "cell_type": "markdown",
   "metadata": {},
   "source": [
    "# **Car Prices in India Dataset**"
   ]
  },
  {
   "cell_type": "markdown",
   "metadata": {},
   "source": [
    "## **PHASE 2 REPORT - Statistical Modelling**"
   ]
  },
  {
   "cell_type": "markdown",
   "metadata": {},
   "source": [
    "#### Group Number - 11\n",
    "##### - Group Members and IDs\n",
    "   * Aarav Jain - s3943906\n",
    "   * Ahnaf Tausif - s3890097\n",
    "   * Kushagra Baghel - s3882120\n",
    "   * Mayank Deepak Thakkar - s3885003\n",
    "   * Vishwas Aggarwal - s3859098"
   ]
  },
  {
   "cell_type": "markdown",
   "metadata": {},
   "source": [
    "## Table of Contents\n",
    "* [Introduction](#itr)\n",
    "  + [Phase 1 Summary](#p1_summary)\n",
    "  + [Report Overview](#report_overview)\n",
    "  + [Overview Of Methodology](#overview_of_methodology)"
   ]
  },
  {
   "cell_type": "markdown",
   "metadata": {},
   "source": [
    "## Introduction <a id='itr'></a>"
   ]
  },
  {
   "cell_type": "markdown",
   "metadata": {},
   "source": [
    "### Phase 1 Summary <a id='p1_summary'></a>"
   ]
  },
  {
   "cell_type": "markdown",
   "metadata": {},
   "source": [
    "* DATASET - \n",
    "In Phase 1 part of the project, we used an interesting dataset that helped us to predict the prices of used cars in the country 'India', which is also known as the Second most populous country with an average population of 1.3 billion and about 296 million running/registered vehicles.\n",
    "\n",
    "* ATTRIBUTES - \n",
    "The dataset contained various columns/attributes namely: Unnamed: 0, Name, Location, Year, Kilometers_Driven, Fuel_Type, Transmission, Owner_Type, Mileage, Engine, Power, Seats and the target feature, that is Price.\n",
    "\n",
    "* DROPPING ATTRIBUTES - \n",
    "However, there were some attributes that were not very useful for predicting the price of the car. In order to keep the dataset accurate, we started by dropping the columns/attributes that were not very useful. This process took place in the section - 'Data Cleaning and Preprocessing'.\n",
    "\n",
    "* DROPPED VALUES - \n",
    "The values that we dropped were -  Unnamed: 0, new_price and Name.\n",
    "\n",
    "* DATATYPES - \n",
    "In order to make sure that the dataset has correct datatypes associated with its attributes, we cross-checked the datatypes of all the attributes that came out to be correct.\n",
    "\n",
    "* MISSING VALUES - \n",
    "For a dataset to be perfect and provide accurate results further, we need to make sure that there are no missing values in the whole dataset. For the same, we checked for any missing values by checking the ampount of missing values in all the columns.\n",
    "\n",
    "* DROPPING OBSERVATIONS WITH MISSING VALUES - \n",
    "We found some missing values in the columns namely - Mileage, Engine, Power and Seats. For the dataset to be perfect, we dropped the observations with missing values and verified whether the missing values were successfully dropped to avoid any future errors in part 'Data Exploration and Visualisation'. Now, the whole dataset was considered to be cleaned. Then, we jumped to the part called 'Data Exploration and Visualisation'. In this part, we started exploring and visualising various features in combination with each other.\n",
    "\n",
    "* DATA EXPLORATION AND VISUALISATION - \n",
    "In this part, we started exploring and visualising various features in combination with each other. We started by visualsing the data by plotting various one-variable, two-variable and three-variable plots in the form of various figures, graphs, boxplots, scatterplots and histograms taking into consideration different combinations that help us predict the prices of the used cars.\n",
    "\n",
    "* PLOTS - \n",
    "For two-variable plots we considered the combinations like  price-transmission, kilometers_driven - fuel_type, price - owner_type, etc. and for three-variable plots we considered the combinations like price - broken down by transmission and owner_type, price - broken down by owner_type and fuel_type, etc."
   ]
  },
  {
   "cell_type": "markdown",
   "metadata": {},
   "source": [
    "\n",
    "\n",
    "\n",
    "\n",
    "\n",
    "* To conclude the Phase 1 report summary, this helped us to figure out various conclusions which helped in predicting the car prices --*Not sure about this point --*"
   ]
  },
  {
   "cell_type": "markdown",
   "metadata": {},
   "source": [
    "### Report Overview <a id='report_overview'></a>"
   ]
  },
  {
   "cell_type": "markdown",
   "metadata": {},
   "source": [
    "In Phase-2 part part of the project, we focus on the statistical modelling of the dataset being used. This report will be having some important section like:\n",
    "1. Statistical Modelling: This section consists five parts:\n",
    "\n",
    "   A) Full model overview - An overview of the full model with the information of various terms and variables being used in it.\n",
    "   \n",
    "   B) Full model Diagnostic Checks - A full diagnostic check for finding out if there are any indications of the violations in the regression      assumptions taken in the model.\n",
    "\n",
    "   C) Feature Selection - In this section we would be performing backward feature selection using p-values.\n",
    "\n",
    "   D) Reduced model Overview - In this section, we would be givign an overview of of the reduced model, i.e. the model after performing the feature selection part. in this we would be giving similar overview as full model overview where we displayed the informtion about various terms and variables used in the reduced model.\n",
    "\n",
    "   E) Reduced Model Diagnostic Checks - A full diagnostic check for the reduced model, similar to the diagnostuc check performed for the full model in the earlier sections.\n",
    "   \n",
    "\n",
    "2. Critique and Limitations - Various strengths and weaknesses of our approach will be provided in detail in this section.\n",
    "\n",
    "\n",
    "3. Summary and Conclusion - This consistes of three parts:\n",
    "   A) Project Summary - A detailed combined summary of both Phase-1 and Phase-2 projects.\n",
    "\n",
    "   B) Summary of Findings - Summary of all out findings about the problems we were focusing on.\n",
    "\n",
    "   C) Conclusion - Finally, a detailed conclusion in which where we will showcase our goals and objectives that were met in this project."
   ]
  },
  {
   "cell_type": "markdown",
   "metadata": {},
   "source": [
    "### Overview Of Methodology <a id='overview_of_methodology'></a>"
   ]
  },
  {
   "cell_type": "markdown",
   "metadata": {},
   "source": [
    "## Statistical Modelling <a id='itr'></a>"
   ]
  },
  {
   "cell_type": "markdown",
   "metadata": {},
   "source": [
    "### Full Model Overview <a id='itr'></a>"
   ]
  },
  {
   "cell_type": "markdown",
   "metadata": {},
   "source": [
    "Our database model consists of 9 features and 6020 total observations"
   ]
  },
  {
   "cell_type": "markdown",
   "metadata": {},
   "source": [
    "We use the following variables in our dataset -\n",
    "\n",
    "* Name - The name of the car including brand and model\n",
    "* Location - The georaphical location of where the car is available to purchase\n",
    "* Year - The year in which the car was bought in a new condition\n",
    "* Kilometers Driven - The total distance driven in the car by its previous owners\n",
    "* Fuel type - The kind of fuel used by the car like Petrol,Diesel,CNG\n",
    "* Transmission - The transmission used by the car(Manual/Automatic)\n",
    "* Owner Type - The number of owners a car has had\n",
    "* Mileage - The mileage offered by the car in kmpl or km/kg\n",
    "* Engine - The displacement value of the engine in CC"
   ]
  },
  {
   "cell_type": "markdown",
   "metadata": {},
   "source": [
    "### Module Imports <a id='itr'></a>"
   ]
  },
  {
   "cell_type": "code",
   "execution_count": 106,
   "metadata": {},
   "outputs": [],
   "source": [
    "import numpy as np\n",
    "import pandas as pd\n",
    "import matplotlib.pyplot as plt\n",
    "import seaborn as sns\n",
    "import statsmodels.api as sm\n",
    "import statsmodels.formula.api as smf\n",
    "import patsy\n",
    "\n",
    "import warnings\n",
    "warnings.filterwarnings('ignore')\n",
    "\n",
    "pd.set_option('display.max_columns', None) \n",
    "\n",
    "%matplotlib inline \n",
    "%config InlineBackend.figure_format = 'retina'\n",
    "plt.style.use(\"ggplot\")\n",
    "\n",
    "df = pd.read_csv('train-data.csv')"
   ]
  },
  {
   "cell_type": "markdown",
   "metadata": {},
   "source": [
    "Let us clean up our dataset"
   ]
  },
  {
   "cell_type": "code",
   "execution_count": 107,
   "metadata": {},
   "outputs": [],
   "source": [
    "df = df.drop(columns=[\"Unnamed: 0\",\"New_Price\", \"Name\", \"Mileage\", \"Power\", \"Engine\"]) \n",
    "df = df.dropna()\n",
    "df.drop(df[df['Owner_Type'] == \"Fourth & Above\"].index, inplace = True)"
   ]
  },
  {
   "cell_type": "code",
   "execution_count": 108,
   "metadata": {},
   "outputs": [
    {
     "data": {
      "text/plain": [
       "(5969, 8)"
      ]
     },
     "execution_count": 108,
     "metadata": {},
     "output_type": "execute_result"
    }
   ],
   "source": [
    "df.shape"
   ]
  },
  {
   "cell_type": "markdown",
   "metadata": {},
   "source": [
    " Let us view the clean dataset that we preprocessed in Phase 1"
   ]
  },
  {
   "cell_type": "code",
   "execution_count": 109,
   "metadata": {},
   "outputs": [
    {
     "data": {
      "text/html": [
       "<div>\n",
       "<style scoped>\n",
       "    .dataframe tbody tr th:only-of-type {\n",
       "        vertical-align: middle;\n",
       "    }\n",
       "\n",
       "    .dataframe tbody tr th {\n",
       "        vertical-align: top;\n",
       "    }\n",
       "\n",
       "    .dataframe thead th {\n",
       "        text-align: right;\n",
       "    }\n",
       "</style>\n",
       "<table border=\"1\" class=\"dataframe\">\n",
       "  <thead>\n",
       "    <tr style=\"text-align: right;\">\n",
       "      <th></th>\n",
       "      <th>Location</th>\n",
       "      <th>Year</th>\n",
       "      <th>Kilometers_Driven</th>\n",
       "      <th>Fuel_Type</th>\n",
       "      <th>Transmission</th>\n",
       "      <th>Owner_Type</th>\n",
       "      <th>Seats</th>\n",
       "      <th>Price</th>\n",
       "    </tr>\n",
       "  </thead>\n",
       "  <tbody>\n",
       "    <tr>\n",
       "      <th>0</th>\n",
       "      <td>Mumbai</td>\n",
       "      <td>2010</td>\n",
       "      <td>72000</td>\n",
       "      <td>CNG</td>\n",
       "      <td>Manual</td>\n",
       "      <td>First</td>\n",
       "      <td>5.0</td>\n",
       "      <td>1.75</td>\n",
       "    </tr>\n",
       "    <tr>\n",
       "      <th>1</th>\n",
       "      <td>Pune</td>\n",
       "      <td>2015</td>\n",
       "      <td>41000</td>\n",
       "      <td>Diesel</td>\n",
       "      <td>Manual</td>\n",
       "      <td>First</td>\n",
       "      <td>5.0</td>\n",
       "      <td>12.50</td>\n",
       "    </tr>\n",
       "    <tr>\n",
       "      <th>2</th>\n",
       "      <td>Chennai</td>\n",
       "      <td>2011</td>\n",
       "      <td>46000</td>\n",
       "      <td>Petrol</td>\n",
       "      <td>Manual</td>\n",
       "      <td>First</td>\n",
       "      <td>5.0</td>\n",
       "      <td>4.50</td>\n",
       "    </tr>\n",
       "    <tr>\n",
       "      <th>3</th>\n",
       "      <td>Chennai</td>\n",
       "      <td>2012</td>\n",
       "      <td>87000</td>\n",
       "      <td>Diesel</td>\n",
       "      <td>Manual</td>\n",
       "      <td>First</td>\n",
       "      <td>7.0</td>\n",
       "      <td>6.00</td>\n",
       "    </tr>\n",
       "    <tr>\n",
       "      <th>4</th>\n",
       "      <td>Coimbatore</td>\n",
       "      <td>2013</td>\n",
       "      <td>40670</td>\n",
       "      <td>Diesel</td>\n",
       "      <td>Automatic</td>\n",
       "      <td>Second</td>\n",
       "      <td>5.0</td>\n",
       "      <td>17.74</td>\n",
       "    </tr>\n",
       "  </tbody>\n",
       "</table>\n",
       "</div>"
      ],
      "text/plain": [
       "     Location  Year  Kilometers_Driven Fuel_Type Transmission Owner_Type  \\\n",
       "0      Mumbai  2010              72000       CNG       Manual      First   \n",
       "1        Pune  2015              41000    Diesel       Manual      First   \n",
       "2     Chennai  2011              46000    Petrol       Manual      First   \n",
       "3     Chennai  2012              87000    Diesel       Manual      First   \n",
       "4  Coimbatore  2013              40670    Diesel    Automatic     Second   \n",
       "\n",
       "   Seats  Price  \n",
       "0    5.0   1.75  \n",
       "1    5.0  12.50  \n",
       "2    5.0   4.50  \n",
       "3    7.0   6.00  \n",
       "4    5.0  17.74  "
      ]
     },
     "execution_count": 109,
     "metadata": {},
     "output_type": "execute_result"
    }
   ],
   "source": [
    "df.head()"
   ]
  },
  {
   "cell_type": "markdown",
   "metadata": {},
   "source": [
    "We use the get_dummies() function of pandas to get a one-hot encoding of the dataset"
   ]
  },
  {
   "cell_type": "code",
   "execution_count": 110,
   "metadata": {},
   "outputs": [
    {
     "data": {
      "text/html": [
       "<div>\n",
       "<style scoped>\n",
       "    .dataframe tbody tr th:only-of-type {\n",
       "        vertical-align: middle;\n",
       "    }\n",
       "\n",
       "    .dataframe tbody tr th {\n",
       "        vertical-align: top;\n",
       "    }\n",
       "\n",
       "    .dataframe thead th {\n",
       "        text-align: right;\n",
       "    }\n",
       "</style>\n",
       "<table border=\"1\" class=\"dataframe\">\n",
       "  <thead>\n",
       "    <tr style=\"text-align: right;\">\n",
       "      <th></th>\n",
       "      <th>Year</th>\n",
       "      <th>Kilometers_Driven</th>\n",
       "      <th>Seats</th>\n",
       "      <th>Price</th>\n",
       "      <th>Location_Bangalore</th>\n",
       "      <th>Location_Chennai</th>\n",
       "      <th>Location_Coimbatore</th>\n",
       "      <th>Location_Delhi</th>\n",
       "      <th>Location_Hyderabad</th>\n",
       "      <th>Location_Jaipur</th>\n",
       "      <th>Location_Kochi</th>\n",
       "      <th>Location_Kolkata</th>\n",
       "      <th>Location_Mumbai</th>\n",
       "      <th>Location_Pune</th>\n",
       "      <th>Fuel_Type_Diesel</th>\n",
       "      <th>Fuel_Type_Electric</th>\n",
       "      <th>Fuel_Type_LPG</th>\n",
       "      <th>Fuel_Type_Petrol</th>\n",
       "      <th>Transmission_Manual</th>\n",
       "      <th>Owner_Type_Second</th>\n",
       "      <th>Owner_Type_Third</th>\n",
       "    </tr>\n",
       "  </thead>\n",
       "  <tbody>\n",
       "    <tr>\n",
       "      <th>0</th>\n",
       "      <td>2010</td>\n",
       "      <td>72000</td>\n",
       "      <td>5.0</td>\n",
       "      <td>1.75</td>\n",
       "      <td>0</td>\n",
       "      <td>0</td>\n",
       "      <td>0</td>\n",
       "      <td>0</td>\n",
       "      <td>0</td>\n",
       "      <td>0</td>\n",
       "      <td>0</td>\n",
       "      <td>0</td>\n",
       "      <td>1</td>\n",
       "      <td>0</td>\n",
       "      <td>0</td>\n",
       "      <td>0</td>\n",
       "      <td>0</td>\n",
       "      <td>0</td>\n",
       "      <td>1</td>\n",
       "      <td>0</td>\n",
       "      <td>0</td>\n",
       "    </tr>\n",
       "    <tr>\n",
       "      <th>1</th>\n",
       "      <td>2015</td>\n",
       "      <td>41000</td>\n",
       "      <td>5.0</td>\n",
       "      <td>12.50</td>\n",
       "      <td>0</td>\n",
       "      <td>0</td>\n",
       "      <td>0</td>\n",
       "      <td>0</td>\n",
       "      <td>0</td>\n",
       "      <td>0</td>\n",
       "      <td>0</td>\n",
       "      <td>0</td>\n",
       "      <td>0</td>\n",
       "      <td>1</td>\n",
       "      <td>1</td>\n",
       "      <td>0</td>\n",
       "      <td>0</td>\n",
       "      <td>0</td>\n",
       "      <td>1</td>\n",
       "      <td>0</td>\n",
       "      <td>0</td>\n",
       "    </tr>\n",
       "    <tr>\n",
       "      <th>2</th>\n",
       "      <td>2011</td>\n",
       "      <td>46000</td>\n",
       "      <td>5.0</td>\n",
       "      <td>4.50</td>\n",
       "      <td>0</td>\n",
       "      <td>1</td>\n",
       "      <td>0</td>\n",
       "      <td>0</td>\n",
       "      <td>0</td>\n",
       "      <td>0</td>\n",
       "      <td>0</td>\n",
       "      <td>0</td>\n",
       "      <td>0</td>\n",
       "      <td>0</td>\n",
       "      <td>0</td>\n",
       "      <td>0</td>\n",
       "      <td>0</td>\n",
       "      <td>1</td>\n",
       "      <td>1</td>\n",
       "      <td>0</td>\n",
       "      <td>0</td>\n",
       "    </tr>\n",
       "    <tr>\n",
       "      <th>3</th>\n",
       "      <td>2012</td>\n",
       "      <td>87000</td>\n",
       "      <td>7.0</td>\n",
       "      <td>6.00</td>\n",
       "      <td>0</td>\n",
       "      <td>1</td>\n",
       "      <td>0</td>\n",
       "      <td>0</td>\n",
       "      <td>0</td>\n",
       "      <td>0</td>\n",
       "      <td>0</td>\n",
       "      <td>0</td>\n",
       "      <td>0</td>\n",
       "      <td>0</td>\n",
       "      <td>1</td>\n",
       "      <td>0</td>\n",
       "      <td>0</td>\n",
       "      <td>0</td>\n",
       "      <td>1</td>\n",
       "      <td>0</td>\n",
       "      <td>0</td>\n",
       "    </tr>\n",
       "    <tr>\n",
       "      <th>4</th>\n",
       "      <td>2013</td>\n",
       "      <td>40670</td>\n",
       "      <td>5.0</td>\n",
       "      <td>17.74</td>\n",
       "      <td>0</td>\n",
       "      <td>0</td>\n",
       "      <td>1</td>\n",
       "      <td>0</td>\n",
       "      <td>0</td>\n",
       "      <td>0</td>\n",
       "      <td>0</td>\n",
       "      <td>0</td>\n",
       "      <td>0</td>\n",
       "      <td>0</td>\n",
       "      <td>1</td>\n",
       "      <td>0</td>\n",
       "      <td>0</td>\n",
       "      <td>0</td>\n",
       "      <td>0</td>\n",
       "      <td>1</td>\n",
       "      <td>0</td>\n",
       "    </tr>\n",
       "  </tbody>\n",
       "</table>\n",
       "</div>"
      ],
      "text/plain": [
       "   Year  Kilometers_Driven  Seats  Price  Location_Bangalore  \\\n",
       "0  2010              72000    5.0   1.75                   0   \n",
       "1  2015              41000    5.0  12.50                   0   \n",
       "2  2011              46000    5.0   4.50                   0   \n",
       "3  2012              87000    7.0   6.00                   0   \n",
       "4  2013              40670    5.0  17.74                   0   \n",
       "\n",
       "   Location_Chennai  Location_Coimbatore  Location_Delhi  Location_Hyderabad  \\\n",
       "0                 0                    0               0                   0   \n",
       "1                 0                    0               0                   0   \n",
       "2                 1                    0               0                   0   \n",
       "3                 1                    0               0                   0   \n",
       "4                 0                    1               0                   0   \n",
       "\n",
       "   Location_Jaipur  Location_Kochi  Location_Kolkata  Location_Mumbai  \\\n",
       "0                0               0                 0                1   \n",
       "1                0               0                 0                0   \n",
       "2                0               0                 0                0   \n",
       "3                0               0                 0                0   \n",
       "4                0               0                 0                0   \n",
       "\n",
       "   Location_Pune  Fuel_Type_Diesel  Fuel_Type_Electric  Fuel_Type_LPG  \\\n",
       "0              0                 0                   0              0   \n",
       "1              1                 1                   0              0   \n",
       "2              0                 0                   0              0   \n",
       "3              0                 1                   0              0   \n",
       "4              0                 1                   0              0   \n",
       "\n",
       "   Fuel_Type_Petrol  Transmission_Manual  Owner_Type_Second  Owner_Type_Third  \n",
       "0                 0                    1                  0                 0  \n",
       "1                 0                    1                  0                 0  \n",
       "2                 1                    1                  0                 0  \n",
       "3                 0                    1                  0                 0  \n",
       "4                 0                    0                  1                 0  "
      ]
     },
     "execution_count": 110,
     "metadata": {},
     "output_type": "execute_result"
    }
   ],
   "source": [
    "data_encoded = pd.get_dummies(df, drop_first=True)\n",
    "data_encoded.head()"
   ]
  },
  {
   "cell_type": "code",
   "execution_count": 111,
   "metadata": {},
   "outputs": [
    {
     "name": "stdout",
     "output_type": "stream",
     "text": [
      "formula_string_encoded:  Price ~ Year + Kilometers_Driven + Seats + Location_Bangalore + Location_Chennai + Location_Coimbatore + Location_Delhi + Location_Hyderabad + Location_Jaipur + Location_Kochi + Location_Kolkata + Location_Mumbai + Location_Pune + Fuel_Type_Diesel + Fuel_Type_Electric + Fuel_Type_LPG + Fuel_Type_Petrol + Transmission_Manual + Owner_Type_Second + Owner_Type_Third\n"
     ]
    }
   ],
   "source": [
    "formula_string_indep_vars_encoded = ' + '.join(data_encoded.drop(columns='Price').columns)\n",
    "formula_string_encoded = 'Price ~ ' + formula_string_indep_vars_encoded\n",
    "print('formula_string_encoded: ', formula_string_encoded)"
   ]
  },
  {
   "cell_type": "code",
   "execution_count": 112,
   "metadata": {},
   "outputs": [
    {
     "name": "stdout",
     "output_type": "stream",
     "text": [
      "                            OLS Regression Results                            \n",
      "==============================================================================\n",
      "Dep. Variable:                  Price   R-squared:                       0.465\n",
      "Model:                            OLS   Adj. R-squared:                  0.464\n",
      "Method:                 Least Squares   F-statistic:                     258.9\n",
      "Date:                Sat, 22 Oct 2022   Prob (F-statistic):               0.00\n",
      "Time:                        15:21:18   Log-Likelihood:                -21026.\n",
      "No. Observations:                5969   AIC:                         4.209e+04\n",
      "Df Residuals:                    5948   BIC:                         4.223e+04\n",
      "Df Model:                          20                                         \n",
      "Covariance Type:            nonrobust                                         \n",
      "=======================================================================================\n",
      "                          coef    std err          t      P>|t|      [0.025      0.975]\n",
      "---------------------------------------------------------------------------------------\n",
      "Intercept           -1474.5691     77.740    -18.968      0.000   -1626.967   -1322.171\n",
      "Year                    0.7394      0.039     19.167      0.000       0.664       0.815\n",
      "Kilometers_Driven    2.272e-06    1.2e-06      1.898      0.058   -7.47e-08    4.62e-06\n",
      "Seats                   0.2786      0.140      1.988      0.047       0.004       0.553\n",
      "Location_Bangalore      3.3816      0.706      4.791      0.000       1.998       4.765\n",
      "Location_Chennai        0.5040      0.668      0.754      0.451      -0.806       1.814\n",
      "Location_Coimbatore     3.5786      0.645      5.544      0.000       2.313       4.844\n",
      "Location_Delhi          0.8485      0.653      1.300      0.194      -0.431       2.128\n",
      "Location_Hyderabad      1.3413      0.629      2.133      0.033       0.109       2.574\n",
      "Location_Jaipur        -0.1419      0.685     -0.207      0.836      -1.486       1.202\n",
      "Location_Kochi          1.0719      0.644      1.664      0.096      -0.191       2.335\n",
      "Location_Kolkata       -0.5341      0.658     -0.812      0.417      -1.824       0.755\n",
      "Location_Mumbai         0.3641      0.627      0.581      0.561      -0.865       1.593\n",
      "Location_Pune          -0.0071      0.645     -0.011      0.991      -1.272       1.258\n",
      "Fuel_Type_Diesel        4.3125      1.119      3.853      0.000       2.118       6.507\n",
      "Fuel_Type_Electric     -3.2134      5.917     -0.543      0.587     -14.814       8.387\n",
      "Fuel_Type_LPG           1.0579      2.829      0.374      0.708      -4.487       6.603\n",
      "Fuel_Type_Petrol       -0.3120      1.115     -0.280      0.780      -2.497       1.873\n",
      "Transmission_Manual   -13.0176      0.245    -53.108      0.000     -13.498     -12.537\n",
      "Owner_Type_Second      -0.2645      0.313     -0.845      0.398      -0.878       0.349\n",
      "Owner_Type_Third        1.4061      0.828      1.698      0.090      -0.218       3.030\n",
      "==============================================================================\n",
      "Omnibus:                     4909.013   Durbin-Watson:                   2.005\n",
      "Prob(Omnibus):                  0.000   Jarque-Bera (JB):           254446.368\n",
      "Skew:                           3.582   Prob(JB):                         0.00\n",
      "Kurtosis:                      34.173   Cond. No.                     7.95e+07\n",
      "==============================================================================\n",
      "\n",
      "Notes:\n",
      "[1] Standard Errors assume that the covariance matrix of the errors is correctly specified.\n",
      "[2] The condition number is large, 7.95e+07. This might indicate that there are\n",
      "strong multicollinearity or other numerical problems.\n"
     ]
    }
   ],
   "source": [
    "model_full = sm.formula.ols(formula=formula_string_encoded, data=data_encoded)\n",
    "model_full_fitted = model_full.fit()\n",
    "print(model_full_fitted.summary())"
   ]
  },
  {
   "cell_type": "code",
   "execution_count": null,
   "metadata": {},
   "outputs": [],
   "source": []
  }
 ],
 "metadata": {
  "kernelspec": {
   "display_name": "Python 3.9.12 ('base')",
   "language": "python",
   "name": "python3"
  },
  "language_info": {
   "codemirror_mode": {
    "name": "ipython",
    "version": 3
   },
   "file_extension": ".py",
   "mimetype": "text/x-python",
   "name": "python",
   "nbconvert_exporter": "python",
   "pygments_lexer": "ipython3",
   "version": "3.9.12"
  },
  "orig_nbformat": 4,
  "vscode": {
   "interpreter": {
    "hash": "524ce1af4f8b373e2d71c8b0999570a7de5ecb8cbd3f3c98ab4c2061d62d9102"
   }
  }
 },
 "nbformat": 4,
 "nbformat_minor": 2
}
