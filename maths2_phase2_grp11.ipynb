{
 "cells": [
  {
   "cell_type": "markdown",
   "metadata": {},
   "source": [
    "# **Car Prices in India Dataset**"
   ]
  },
  {
   "cell_type": "markdown",
   "metadata": {},
   "source": [
    "## **PHASE 2 REPORT - Statistical Modelling**"
   ]
  },
  {
   "cell_type": "markdown",
   "metadata": {},
   "source": [
    "Group Number - 11\n",
    "- Group Members and IDs\n",
    "   * Aarav Jain - s3943906\n",
    "   * Ahnaf Tausif - s3890097\n",
    "   * Kushagra Baghel - s3882120\n",
    "   * Mayank Deepak Thakkar - s3885003\n",
    "   * Vishwas Aggarwal - s3859098"
   ]
  },
  {
   "cell_type": "markdown",
   "metadata": {},
   "source": [
    "## Table of Contents\n",
    "* [Introduction](#itr)\n",
    "  + [Phase 1 Summary](#p1_summary)\n",
    "  + [Report Overview](#report_overview)\n",
    "  + [Overview Of Methodology](#overview_of_methodology)"
   ]
  },
  {
   "cell_type": "markdown",
   "metadata": {},
   "source": [
    "## Introduction <a id='itr'></a>"
   ]
  },
  {
   "cell_type": "markdown",
   "metadata": {},
   "source": [
    "### Phase 1 Summary <a id='p1_summary'></a>"
   ]
  },
  {
   "cell_type": "markdown",
   "metadata": {},
   "source": [
    "* DATASET - In Phase 1 part of the project, we used an interesting dataset that helped us to predict the prices of used cars in the country 'India', which is also known as the Second most populous country with an average population of 1.3 billion and about 296 million running/registered vehicles.\n",
    "\n",
    "* ATTRIBUTES - The dataset contained various columns/attributes namely: Unnamed: 0, Name, Location, Year, Kilometers_Driven, Fuel_Type, Transmission, Owner_Type, Mileage, Engine, Power, Seats and the target feature, that is Price.\n",
    "\n",
    "* DROPPING ATTRIBUTES - However, there were some attributes that were not very useful for predicting the price of the car. In order to keep the dataset accurate, we started by dropping the columns/attributes that were not very useful. This process took place in the section - 'Data Cleaning and Preprocessing'.\n",
    "\n",
    "* DROPPED VALUES - The values that we dropped were -  Unnamed: 0, new_price and Name.\n",
    "\n",
    "* DATATYPES - In order to make sure that the dataset has correct datatypes associated with its attributes, we cross-checked the datatypes of all the attributes that came out to be correct.\n",
    "\n",
    "* MISSING VALUES - For a dataset to be perfect and provide accurate results further, we need to make sure that there are no missing values in the whole dataset. For the same, we checked for any missing values by checking the ampount of missing values in all the columns.\n",
    "\n",
    "* DROPPING OBSERVATIONS WITH MISSING VALUES - We found some missing values in the columns namely - Mileage, Engine, Power and Seats. For the dataset to be perfect, we dropped the observations with missing values and verified whether the missing values were successfully dropped to avoid any future errors in part 'Data Exploration and Visualisation'. Now, the whole dataset was considered to be cleaned. Then, we jumped to the part called 'Data Exploration and Visualisation'. In this part, we started exploring and visualising various features in combination with each other.\n",
    "\n",
    "* DATA EXPLORATION AND VISUALISATION - In this part, we started exploring and visualising various features in combination with each other. We started by visualsing the data by plotting various one-variable, two-variable and three-variable plots in the form of various figures, graphs, boxplots, scatterplots and histograms taking into consideration different combinations that help us predict the prices of the used cars.\n",
    "\n",
    "* PLOTS - For two-variable plots we considered the combinations like  price-transmission, kilometers_driven - fuel_type, price - owner_type, etc. and for three-variable plots we considered the combinations like price - broken down by transmission and owner_type, price - broken down by owner_type and fuel_type, etc."
   ]
  },
  {
   "cell_type": "markdown",
   "metadata": {},
   "source": [
    "\n",
    "\n",
    "\n",
    "\n",
    "\n",
    "* To conclude the Phase 1 report summary, this helped us to figure out various conclusions which helped in predicting the car prices --*Not sure about this point --*"
   ]
  },
  {
   "cell_type": "markdown",
   "metadata": {},
   "source": [
    "### Report Overview <a id='report_overview'></a>"
   ]
  },
  {
   "cell_type": "markdown",
   "metadata": {},
   "source": [
    "In Phase-2 part part of the project, we focus on the statistical modelling of the dataset being used. This report will be having some important section like:\n",
    "1. Statistical Modelling: This section consists five parts:\n",
    "\n",
    "   A) Full model overview - An overview of the full model with the information of various terms and variables being used in it.\n",
    "   \n",
    "   B) Full model Diagnostic Checks - A full diagnostic check for finding out if there are any indications of the violations in the regression      assumptions taken in the model.\n",
    "\n",
    "   C) Feature Selection - In this section we would be performing backward feature selection using p-values.\n",
    "\n",
    "   D) Reduced model Overview - In this section, we would be givign an overview of of the reduced model, i.e. the model after performing the feature selection part. in this we would be giving similar overview as full model overview where we displayed the informtion about various terms and variables used in the reduced model.\n",
    "\n",
    "   E) Reduced Model Diagnostic Checks - A full diagnostic check for the reduced model, similar to the diagnostuc check performed for the full model in the earlier sections.\n",
    "   \n",
    "\n",
    "2. Critique and Limitations - Various strengths and weaknesses of our approach will be provided in detail in this section.\n",
    "\n",
    "\n",
    "3. Summary and Conclusion - This consistes of three parts:\n",
    "   A) Project Summary - A detailed combined summary of both Phase-1 and Phase-2 projects.\n",
    "\n",
    "   B) Summary of Findings - Summary of all out findings about the problems we were focusing on.\n",
    "\n",
    "   C) Conclusion - Finally, a detailed conclusion in which where we will showcase our goals and objectives that were met in this project."
   ]
  },
  {
   "cell_type": "markdown",
   "metadata": {},
   "source": [
    "### Overview Of Methodology <a id='overview_of_methodology'></a>"
   ]
  },
  {
   "cell_type": "markdown",
   "metadata": {},
   "source": []
  }
 ],
 "metadata": {
  "kernelspec": {
   "display_name": "Python 3.10.7 64-bit",
   "language": "python",
   "name": "python3"
  },
  "language_info": {
   "name": "python",
   "version": "3.10.7"
  },
  "orig_nbformat": 4,
  "vscode": {
   "interpreter": {
    "hash": "aee8b7b246df8f9039afb4144a1f6fd8d2ca17a180786b69acc140d282b71a49"
   }
  }
 },
 "nbformat": 4,
 "nbformat_minor": 2
}
